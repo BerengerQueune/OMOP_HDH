{
 "cells": [
  {
   "cell_type": "code",
   "execution_count": null,
   "metadata": {},
   "outputs": [],
   "source": [
    "# This notebook is used to create the PROVIDER table\n",
    "# Based on the following documentations: \n",
    "#   https://ohdsi.github.io/CommonDataModel/cdm53.html#provider\n",
    "#   https://documentation-snds.health-data-hub.fr/omop/documentation_etl/provider.html#description\n",
    "\n",
    "from pyspark.sql import SparkSession\n",
    "from pyspark.sql.functions import col, when, crc32\n",
    "\n",
    "# Spark initialization\n",
    "spark = SparkSession.builder \\\n",
    "    .appName(\"OMOP Provider Table Unified\") \\\n",
    "    .getOrCreate()\n",
    "\n",
    "# Loading data\n",
    "ir_spe_v = spark.read.option(\"header\", True).csv(\"../data/raw/ir_spe_v.csv\")\n",
    "\n"
   ]
  },
  {
   "cell_type": "code",
   "execution_count": null,
   "metadata": {},
   "outputs": [],
   "source": [
    "ir_spe_v.show()"
   ]
  },
  {
   "cell_type": "code",
   "execution_count": null,
   "metadata": {},
   "outputs": [],
   "source": [
    "# Rename columns\n",
    "providers_df = ir_spe_v.select(\n",
    "    col(\"PFS_SPE_COD\").alias(\"provider_source_value\"),\n",
    "    col(\"LABEL\").alias(\"specialty_source_value\")\n",
    ")\n",
    "\n",
    "providers_df.show()"
   ]
  },
  {
   "cell_type": "code",
   "execution_count": null,
   "metadata": {},
   "outputs": [],
   "source": [
    "# Mapping dictionnaire OMOP using Athena documentation to find mapping: https://athena.ohdsi.org/search-terms/terms?domain=Provider&standardConcept=Standard&page=1&pageSize=15&query=\n",
    "providers_df = providers_df.withColumn(\n",
    "    \"specialty_concept_id\",\n",
    "    when(col(\"specialty_source_value\") == \"Médecin généraliste\", 38004446)\n",
    "    .when(col(\"specialty_source_value\") == \"Radiologue\", 45756825)\n",
    "    .otherwise(None)\n",
    ")\n",
    "\n",
    "providers_df.show()"
   ]
  },
  {
   "cell_type": "code",
   "execution_count": null,
   "metadata": {},
   "outputs": [],
   "source": [
    "# Generate a pseudonymized integer identifier from provider_source_value (using crc32),\n",
    "# ensuring it is positive and within the range of a signed 32-bit integer\n",
    "MAX_INT = 2**31 - 1\n",
    "\n",
    "providers_df = providers_df.withColumn(\n",
    "    \"provider_id\",\n",
    "    (crc32(col(\"provider_source_value\").cast(\"string\")) % MAX_INT).cast(\"int\")\n",
    ")\n",
    "\n",
    "providers_df.show()"
   ]
  },
  {
   "cell_type": "code",
   "execution_count": null,
   "metadata": {},
   "outputs": [],
   "source": [
    "providers_df.printSchema()"
   ]
  },
  {
   "cell_type": "code",
   "execution_count": null,
   "metadata": {},
   "outputs": [],
   "source": [
    "# Save as parquet with snappy compression\n",
    "providers_df.coalesce(1).write \\\n",
    "    .mode(\"overwrite\") \\\n",
    "    .option(\"compression\", \"snappy\") \\\n",
    "    .parquet(\"../data/processed/PROVIDER.parquet\")\n",
    "\n",
    "# Stop Spark\n",
    "spark.stop()"
   ]
  }
 ],
 "metadata": {
  "language_info": {
   "name": "python"
  }
 },
 "nbformat": 4,
 "nbformat_minor": 2
}
