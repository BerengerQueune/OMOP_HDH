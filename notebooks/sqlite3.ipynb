{
 "cells": [
  {
   "cell_type": "code",
   "execution_count": 1,
   "metadata": {},
   "outputs": [
    {
     "data": {
      "text/html": [
       "<div>\n",
       "<style scoped>\n",
       "    .dataframe tbody tr th:only-of-type {\n",
       "        vertical-align: middle;\n",
       "    }\n",
       "\n",
       "    .dataframe tbody tr th {\n",
       "        vertical-align: top;\n",
       "    }\n",
       "\n",
       "    .dataframe thead th {\n",
       "        text-align: right;\n",
       "    }\n",
       "</style>\n",
       "<table border=\"1\" class=\"dataframe\">\n",
       "  <thead>\n",
       "    <tr style=\"text-align: right;\">\n",
       "      <th></th>\n",
       "      <th>eta_num</th>\n",
       "      <th>soc_rai</th>\n",
       "    </tr>\n",
       "  </thead>\n",
       "  <tbody>\n",
       "    <tr>\n",
       "      <th>0</th>\n",
       "      <td>750300360</td>\n",
       "      <td>l'Hôpital Privé des Peupliers</td>\n",
       "    </tr>\n",
       "    <tr>\n",
       "      <th>1</th>\n",
       "      <td>750023772</td>\n",
       "      <td>Pharmacie Plaisance</td>\n",
       "    </tr>\n",
       "  </tbody>\n",
       "</table>\n",
       "</div>"
      ],
      "text/plain": [
       "     eta_num                        soc_rai\n",
       "0  750300360  l'Hôpital Privé des Peupliers\n",
       "1  750023772            Pharmacie Plaisance"
      ]
     },
     "execution_count": 1,
     "metadata": {},
     "output_type": "execute_result"
    }
   ],
   "source": [
    "# This notebook is used to create the CARE_SITE table\n",
    "# Based on the following documentations: \n",
    "#   https://ohdsi.github.io/CommonDataModel/cdm53.html#care_site\n",
    "#   https://documentation-snds.health-data-hub.fr/omop/documentation_etl/care_site.html\n",
    "\n",
    "import pandas as pd\n",
    "import sqlite3\n",
    "import hashlib\n",
    "\n",
    "# Loading data\n",
    "df_care_site = pd.read_csv(\"../data/raw/t_mcoaae.csv\", dtype=str)\n",
    "\n",
    "df_care_site"
   ]
  },
  {
   "cell_type": "code",
   "execution_count": null,
   "metadata": {},
   "outputs": [
    {
     "data": {
      "text/html": [
       "<div>\n",
       "<style scoped>\n",
       "    .dataframe tbody tr th:only-of-type {\n",
       "        vertical-align: middle;\n",
       "    }\n",
       "\n",
       "    .dataframe tbody tr th {\n",
       "        vertical-align: top;\n",
       "    }\n",
       "\n",
       "    .dataframe thead th {\n",
       "        text-align: right;\n",
       "    }\n",
       "</style>\n",
       "<table border=\"1\" class=\"dataframe\">\n",
       "  <thead>\n",
       "    <tr style=\"text-align: right;\">\n",
       "      <th></th>\n",
       "      <th>care_site_source_value</th>\n",
       "      <th>care_site_name</th>\n",
       "      <th>location_id</th>\n",
       "      <th>care_site_id</th>\n",
       "    </tr>\n",
       "  </thead>\n",
       "  <tbody>\n",
       "    <tr>\n",
       "      <th>0</th>\n",
       "      <td>750300360</td>\n",
       "      <td>l'Hôpital Privé des Peupliers</td>\n",
       "      <td>None</td>\n",
       "      <td>859137566</td>\n",
       "    </tr>\n",
       "    <tr>\n",
       "      <th>1</th>\n",
       "      <td>750023772</td>\n",
       "      <td>Pharmacie Plaisance</td>\n",
       "      <td>None</td>\n",
       "      <td>796756685</td>\n",
       "    </tr>\n",
       "  </tbody>\n",
       "</table>\n",
       "</div>"
      ],
      "text/plain": [
       "  care_site_source_value                 care_site_name location_id  \\\n",
       "0              750300360  l'Hôpital Privé des Peupliers        None   \n",
       "1              750023772            Pharmacie Plaisance        None   \n",
       "\n",
       "   care_site_id  \n",
       "0     859137566  \n",
       "1     796756685  "
      ]
     },
     "execution_count": 2,
     "metadata": {},
     "output_type": "execute_result"
    }
   ],
   "source": [
    "# Rename columns\n",
    "df_care_site = df_care_site.rename(columns={\n",
    "    \"eta_num\": \"care_site_source_value\",\n",
    "    \"soc_rai\": \"care_site_name\"\n",
    "})\n",
    "\n",
    "df_care_site[\"location_id\"] = None\n",
    "\n",
    "# Hash function to generate a pseudonymized, deterministic integer ID\n",
    "def hash_to_int(value):\n",
    "    # Use SHA-256 and fit into 32-bit signed integer range\n",
    "    hash_obj = hashlib.sha256(str(value).encode())\n",
    "    return int(hash_obj.hexdigest(), 16) % (2**31 - 1)\n",
    "\n",
    "# Apply hash_to_int function\n",
    "df_care_site[\"care_site_id\"] = df_care_site[\"care_site_source_value\"].apply(hash_to_int).astype(\"int32\")\n",
    "\n",
    "df_care_site\n"
   ]
  },
  {
   "cell_type": "code",
   "execution_count": 3,
   "metadata": {},
   "outputs": [],
   "source": [
    "# Connect to SQLite\n",
    "conn = sqlite3.connect(\"../data/processed/omop_database.sqlite\")\n",
    "\n",
    "# Replace table if it exists\n",
    "df_care_site.to_sql(\"CARE_SITE\", conn, if_exists=\"replace\", index=False)\n",
    "\n",
    "conn.commit()\n",
    "conn.close()"
   ]
  }
 ],
 "metadata": {
  "kernelspec": {
   "display_name": "Python 3",
   "language": "python",
   "name": "python3"
  },
  "language_info": {
   "codemirror_mode": {
    "name": "ipython",
    "version": 3
   },
   "file_extension": ".py",
   "mimetype": "text/x-python",
   "name": "python",
   "nbconvert_exporter": "python",
   "pygments_lexer": "ipython3",
   "version": "3.11.9"
  }
 },
 "nbformat": 4,
 "nbformat_minor": 2
}
