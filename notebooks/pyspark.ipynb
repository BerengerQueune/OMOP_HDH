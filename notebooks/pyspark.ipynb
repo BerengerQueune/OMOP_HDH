{
 "cells": [
  {
   "cell_type": "code",
   "execution_count": 1,
   "metadata": {},
   "outputs": [],
   "source": [
    "# This notebook is used to create the PROVIDER table\n",
    "# Based on the following documentations: \n",
    "#   https://ohdsi.github.io/CommonDataModel/cdm53.html#provider\n",
    "#   https://documentation-snds.health-data-hub.fr/omop/documentation_etl/provider.html#description\n",
    "\n",
    "from pyspark.sql import SparkSession\n",
    "from pyspark.sql.functions import col, when, crc32\n",
    "\n",
    "# Spark initialization\n",
    "spark = SparkSession.builder \\\n",
    "    .appName(\"OMOP Provider Table Unified\") \\\n",
    "    .getOrCreate()\n",
    "\n",
    "# Loading data\n",
    "ir_spe_v = spark.read.option(\"header\", True).csv(\"../data/raw/ir_spe_v.csv\")\n",
    "\n"
   ]
  },
  {
   "cell_type": "code",
   "execution_count": 2,
   "metadata": {},
   "outputs": [
    {
     "name": "stdout",
     "output_type": "stream",
     "text": [
      "+-----------+-------------------+\n",
      "|pfs_spe_cod|              label|\n",
      "+-----------+-------------------+\n",
      "|          1|Médecin généraliste|\n",
      "|          6|         Radiologue|\n",
      "+-----------+-------------------+\n",
      "\n"
     ]
    }
   ],
   "source": [
    "ir_spe_v.show()"
   ]
  },
  {
   "cell_type": "code",
   "execution_count": 3,
   "metadata": {},
   "outputs": [
    {
     "name": "stdout",
     "output_type": "stream",
     "text": [
      "+---------------------+----------------------+\n",
      "|provider_source_value|specialty_source_value|\n",
      "+---------------------+----------------------+\n",
      "|                    1|   Médecin généraliste|\n",
      "|                    6|            Radiologue|\n",
      "+---------------------+----------------------+\n",
      "\n"
     ]
    }
   ],
   "source": [
    "# Rename columns\n",
    "providers_df = ir_spe_v.select(\n",
    "    col(\"PFS_SPE_COD\").alias(\"provider_source_value\"),\n",
    "    col(\"LABEL\").alias(\"specialty_source_value\")\n",
    ")\n",
    "\n",
    "providers_df.show()"
   ]
  },
  {
   "cell_type": "code",
   "execution_count": 4,
   "metadata": {},
   "outputs": [
    {
     "name": "stdout",
     "output_type": "stream",
     "text": [
      "+---------------------+----------------------+--------------------+\n",
      "|provider_source_value|specialty_source_value|specialty_concept_id|\n",
      "+---------------------+----------------------+--------------------+\n",
      "|                    1|   Médecin généraliste|            38004446|\n",
      "|                    6|            Radiologue|            45756825|\n",
      "+---------------------+----------------------+--------------------+\n",
      "\n"
     ]
    }
   ],
   "source": [
    "# Mapping dictionnaire OMOP using Athena documentation to find mapping: https://athena.ohdsi.org/search-terms/terms?domain=Provider&standardConcept=Standard&page=1&pageSize=15&query=\n",
    "providers_df = providers_df.withColumn(\n",
    "    \"specialty_concept_id\",\n",
    "    when(col(\"specialty_source_value\") == \"Médecin généraliste\", 38004446)\n",
    "    .when(col(\"specialty_source_value\") == \"Radiologue\", 45756825)\n",
    "    .otherwise(None)\n",
    ")\n",
    "\n",
    "providers_df.show()"
   ]
  },
  {
   "cell_type": "code",
   "execution_count": 7,
   "metadata": {},
   "outputs": [
    {
     "name": "stdout",
     "output_type": "stream",
     "text": [
      "+---------------------+----------------------+--------------------+-----------+\n",
      "|provider_source_value|specialty_source_value|specialty_concept_id|provider_id|\n",
      "+---------------------+----------------------+--------------------+-----------+\n",
      "|                    1|   Médecin généraliste|            38004446|   64810936|\n",
      "|                    6|            Radiologue|            45756825|  498629140|\n",
      "+---------------------+----------------------+--------------------+-----------+\n",
      "\n"
     ]
    }
   ],
   "source": [
    "# Define the maximum value for a signed 32-bit integer\n",
    "MAX_INT = 2**31 - 1  # 2,147,483,647\n",
    "\n",
    "# Generate a pseudonymized, deterministic provider_id using Spark's crc32 hash\n",
    "# - Cast the source value to string for consistent hashing\n",
    "# - Apply crc32 to get a fast, 32-bit unsigned hash\n",
    "# - Use modulo to ensure the result fits in the signed 32-bit integer range and stays positive\n",
    "# - Cast the result to int for compatibility with OMOP schema and storage systems\n",
    "providers_df = providers_df.withColumn(\n",
    "    \"provider_id\",\n",
    "    (crc32(col(\"provider_source_value\").cast(\"string\")) % MAX_INT).cast(\"int\")\n",
    ")\n",
    "\n",
    "providers_df.show()"
   ]
  },
  {
   "cell_type": "code",
   "execution_count": 8,
   "metadata": {},
   "outputs": [
    {
     "name": "stdout",
     "output_type": "stream",
     "text": [
      "root\n",
      " |-- provider_source_value: string (nullable = true)\n",
      " |-- specialty_source_value: string (nullable = true)\n",
      " |-- specialty_concept_id: integer (nullable = true)\n",
      " |-- provider_id: integer (nullable = true)\n",
      "\n"
     ]
    }
   ],
   "source": [
    "providers_df.printSchema()"
   ]
  },
  {
   "cell_type": "code",
   "execution_count": null,
   "metadata": {},
   "outputs": [],
   "source": [
    "# Save as parquet with snappy compression\n",
    "providers_df.coalesce(1).write \\\n",
    "    .mode(\"overwrite\") \\\n",
    "    .option(\"compression\", \"snappy\") \\\n",
    "    .parquet(\"../data/processed/PROVIDER.parquet\")\n",
    "\n",
    "# Stop Spark\n",
    "spark.stop()"
   ]
  }
 ],
 "metadata": {
  "kernelspec": {
   "display_name": "Python 3",
   "language": "python",
   "name": "python3"
  },
  "language_info": {
   "codemirror_mode": {
    "name": "ipython",
    "version": 3
   },
   "file_extension": ".py",
   "mimetype": "text/x-python",
   "name": "python",
   "nbconvert_exporter": "python",
   "pygments_lexer": "ipython3",
   "version": "3.11.9"
  }
 },
 "nbformat": 4,
 "nbformat_minor": 2
}
